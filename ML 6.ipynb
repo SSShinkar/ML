{
 "cells": [
  {
   "cell_type": "markdown",
   "id": "50ff83c1",
   "metadata": {},
   "source": [
    "# A. Implement Reinforcement Learning using an example of a maze environment that the agent needs to explore."
   ]
  },
  {
   "cell_type": "code",
   "execution_count": 1,
   "id": "e1fa438d",
   "metadata": {},
   "outputs": [],
   "source": [
    "import numpy as np\n",
    "import matplotlib.pyplot as plt\n",
    "\n"
   ]
  },
  {
   "cell_type": "markdown",
   "id": "6912e8bf",
   "metadata": {},
   "source": [
    "# Define the Maze and Start Position"
   ]
  },
  {
   "cell_type": "code",
   "execution_count": 2,
   "id": "97f2c693",
   "metadata": {},
   "outputs": [],
   "source": [
    "# Define the maze (0: free cell, 1: obstacle, 2: goal)\n",
    "maze = np.array([\n",
    "    [0, 0, 1, 0, 0],\n",
    "    [1, 0, 1, 0, 1],\n",
    "    [0, 0, 0, 0, 0],\n",
    "    [0, 1, 1, 1, 0],\n",
    "    [0, 0, 0, 0, 2]\n",
    "])\n",
    "\n",
    "# Define start position\n",
    "start_position = (0, 0)\n"
   ]
  },
  {
   "cell_type": "markdown",
   "id": "2eda274a",
   "metadata": {},
   "source": [
    "# Set Up Q-learning Parameters and Initialize Q-table"
   ]
  },
  {
   "cell_type": "code",
   "execution_count": 3,
   "id": "86af367a",
   "metadata": {},
   "outputs": [],
   "source": [
    "# Q-learning parameters\n",
    "alpha = 0.8       # Learning rate\n",
    "gamma = 0.95      # Discount factor\n",
    "epsilon = 0.1     # Exploration rate\n",
    "\n",
    "# Initialize Q-table with zeros (size: maze cells x 4 actions)\n",
    "q_table = np.zeros((maze.size, 4))\n"
   ]
  },
  {
   "cell_type": "markdown",
   "id": "516ed312",
   "metadata": {},
   "source": [
    "# Define Actions and Helper Functions"
   ]
  },
  {
   "cell_type": "code",
   "execution_count": 4,
   "id": "4390bcfe",
   "metadata": {},
   "outputs": [],
   "source": [
    "# Define actions (0: up, 1: down, 2: left, 3: right)\n",
    "actions = {\n",
    "    0: (-1, 0),  # up\n",
    "    1: (1, 0),   # down\n",
    "    2: (0, -1),  # left\n",
    "    3: (0, 1)    # right\n",
    "}\n",
    "\n",
    "# Convert position to a state for Q-table indexing\n",
    "def pos_to_state(pos):\n",
    "    return pos[0] * maze.shape[1] + pos[1]\n",
    "\n",
    "# Check if position is valid within maze bounds and not an obstacle\n",
    "def is_valid_position(pos):\n",
    "    return (0 <= pos[0] < maze.shape[0] and \n",
    "            0 <= pos[1] < maze.shape[1] and \n",
    "            maze[pos] != 1)\n"
   ]
  },
  {
   "cell_type": "markdown",
   "id": "8afce1cc",
   "metadata": {},
   "source": [
    "# Implement Q-learning Algorithm"
   ]
  },
  {
   "cell_type": "code",
   "execution_count": 7,
   "id": "95bb609b",
   "metadata": {},
   "outputs": [],
   "source": [
    "# Number of episodes to train the agent\n",
    "import random\n",
    "episodes = 1000\n",
    "\n",
    "for episode in range(episodes):\n",
    "    position = start_position  # Start position at each episode\n",
    "    \n",
    "    while True:\n",
    "        state = pos_to_state(position)\n",
    "        \n",
    "        # Choose action with epsilon-greedy policy\n",
    "        if random.uniform(0, 1) < epsilon:\n",
    "            action = random.choice(list(actions.keys()))\n",
    "        else:\n",
    "            action = np.argmax(q_table[state])\n",
    "\n",
    "        # Calculate new position based on chosen action\n",
    "        new_position = (position[0] + actions[action][0], position[1] + actions[action][1])\n",
    "\n",
    "        # Check if the new position is within bounds and not an obstacle\n",
    "        if not is_valid_position(new_position):\n",
    "            reward = -1  # Penalize hitting an obstacle\n",
    "            q_table[state, action] += alpha * (reward - q_table[state, action])\n",
    "            continue\n",
    "        \n",
    "        # Check if goal is reached\n",
    "        if maze[new_position] == 2:\n",
    "            reward = 10  # Reward for reaching the goal\n",
    "            q_table[state, action] += alpha * (reward + gamma * 0 - q_table[state, action])\n",
    "            break\n",
    "\n",
    "        # Reward for a regular move\n",
    "        new_state = pos_to_state(new_position)\n",
    "        reward = -0.04  # Small penalty for each move\n",
    "\n",
    "        # Update Q-table\n",
    "        q_table[state, action] += alpha * (reward + gamma * np.max(q_table[new_state]) - q_table[state, action])\n",
    "\n",
    "        # Move to the new position\n",
    "        position = new_position\n"
   ]
  },
  {
   "cell_type": "markdown",
   "id": "bc1f656b",
   "metadata": {},
   "source": [
    "# Visualize the Path Taken by the Agent"
   ]
  },
  {
   "cell_type": "code",
   "execution_count": 8,
   "id": "250fd516",
   "metadata": {},
   "outputs": [
    {
     "data": {
      "image/png": "[encoded data removed]",
      "text/plain": [
       "<Figure size 640x480 with 1 Axes>"
      ]
     },
     "metadata": {},
     "output_type": "display_data"
    }
   ],
   "source": [
    "# Helper function to visualize the maze with the agent's path\n",
    "def plot_maze(path=None):\n",
    "    maze_copy = maze.copy()\n",
    "    if path:\n",
    "        for pos in path:\n",
    "            maze_copy[pos] = -1  # Mark path with -1\n",
    "\n",
    "    plt.imshow(maze_copy, cmap='cool')\n",
    "    plt.title(\"Maze (Path marked with -1)\")\n",
    "    plt.show()\n",
    "\n",
    "# Generate the path the agent will take using the Q-table\n",
    "def find_path():\n",
    "    position = start_position\n",
    "    path = [position]\n",
    "    \n",
    "    while True:\n",
    "        state = pos_to_state(position)\n",
    "        action = np.argmax(q_table[state])\n",
    "        new_position = (position[0] + actions[action][0], position[1] + actions[action][1])\n",
    "\n",
    "        if maze[new_position] == 2:  # Goal reached\n",
    "            path.append(new_position)\n",
    "            break\n",
    "        elif is_valid_position(new_position):\n",
    "            position = new_position\n",
    "            path.append(position)\n",
    "        else:\n",
    "            break  # If stuck\n",
    "\n",
    "    return path\n",
    "\n",
    "# Plot the maze with the path found by the agent\n",
    "path = find_path()\n",
    "plot_maze(path)\n"
   ]
  },
  {
   "cell_type": "code",
   "execution_count": null,
   "id": "1d103ffe",
   "metadata": {},
   "outputs": [],
   "source": []
  },
  {
   "cell_type": "code",
   "execution_count": null,
   "id": "6e217380",
   "metadata": {},
   "outputs": [],
   "source": []
  }
 ],
 "metadata": {
  "kernelspec": {
   "display_name": "Python 3 (ipykernel)",
   "language": "python",
   "name": "python3"
  },
  "language_info": {
   "codemirror_mode": {
    "name": "ipython",
    "version": 3
   },
   "file_extension": ".py",
   "mimetype": "text/x-python",
   "name": "python",
   "nbconvert_exporter": "python",
   "pygments_lexer": "ipython3",
   "version": "3.9.13"
  }
 },
 "nbformat": 4,
 "nbformat_minor": 5
}
